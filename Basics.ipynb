{
 "cells": [
  {
   "cell_type": "markdown",
   "metadata": {},
   "source": [
    "# Spam Filter with Naive Bayes"
   ]
  },
  {
   "cell_type": "markdown",
   "metadata": {},
   "source": [
    "... some description ..."
   ]
  },
  {
   "cell_type": "markdown",
   "metadata": {},
   "source": [
    "## Setup"
   ]
  },
  {
   "cell_type": "code",
   "execution_count": 1,
   "metadata": {
    "collapsed": true
   },
   "outputs": [],
   "source": [
    "import pandas as pd\n",
    "import matplotlib.pyplot as plt\n",
    "import seaborn as sns\n",
    "import re"
   ]
  },
  {
   "cell_type": "code",
   "execution_count": 2,
   "metadata": {
    "collapsed": true
   },
   "outputs": [],
   "source": [
    "%config InlineBackend.figure_format = 'retina'\n",
    "sns.set_style('darkgrid')"
   ]
  },
  {
   "cell_type": "code",
   "execution_count": 3,
   "metadata": {
    "collapsed": false
   },
   "outputs": [],
   "source": [
    "msg = pd.read_csv('SMSSpamCollection', sep='\\t', header=None, names=['Label', 'SMS'])"
   ]
  },
  {
   "cell_type": "markdown",
   "metadata": {},
   "source": [
    "## Dataset"
   ]
  },
  {
   "cell_type": "markdown",
   "metadata": {},
   "source": [
    "### distribution non-spam / spam"
   ]
  },
  {
   "cell_type": "code",
   "execution_count": 4,
   "metadata": {
    "collapsed": false
   },
   "outputs": [
    {
     "data": {
      "text/plain": [
       "ham     86.593683\n",
       "spam    13.406317\n",
       "Name: Label, dtype: float64"
      ]
     },
     "execution_count": 4,
     "metadata": {},
     "output_type": "execute_result"
    }
   ],
   "source": [
    "msg.Label.value_counts(normalize=True) * 100"
   ]
  },
  {
   "cell_type": "markdown",
   "metadata": {},
   "source": [
    "### word count"
   ]
  },
  {
   "cell_type": "code",
   "execution_count": 5,
   "metadata": {
    "collapsed": false
   },
   "outputs": [
    {
     "data": {
      "text/plain": [
       "count    5572.000000\n",
       "mean       15.709440\n",
       "std        11.493753\n",
       "min         1.000000\n",
       "25%         7.000000\n",
       "50%        12.000000\n",
       "75%        23.000000\n",
       "max       171.000000\n",
       "Name: SMS, dtype: float64"
      ]
     },
     "execution_count": 5,
     "metadata": {},
     "output_type": "execute_result"
    }
   ],
   "source": [
    "msg.SMS.apply(lambda x: len(x.split(' '))).describe()"
   ]
  },
  {
   "cell_type": "markdown",
   "metadata": {},
   "source": [
    "### Splitting Training / Testing Data"
   ]
  },
  {
   "cell_type": "code",
   "execution_count": 6,
   "metadata": {
    "collapsed": false
   },
   "outputs": [
    {
     "name": "stdout",
     "output_type": "stream",
     "text": [
      "\n",
      "Training data (4458 rows)\n",
      "ham     0.86541\n",
      "spam    0.13459\n",
      "Name: Label, dtype: float64\n",
      "\n",
      "Testing data (1114 rows)\n",
      "ham     0.868043\n",
      "spam    0.131957\n",
      "Name: Label, dtype: float64\n"
     ]
    }
   ],
   "source": [
    "msg_rand = msg.sample(frac=1, random_state=1)\n",
    "bd_80 = round(len(msg_rand) * 0.8)\n",
    "\n",
    "msg_training = msg_rand.iloc[:bd_80].reset_index(drop=True)\n",
    "msg_testing = msg_rand.iloc[bd_80:].reset_index(drop=True)\n",
    "\n",
    "print('\\nTraining data ({} rows)'.format(len(msg_training)))\n",
    "print(msg_training.Label.value_counts(normalize=True))\n",
    "print('\\nTesting data ({} rows)'.format(len(msg_testing)))\n",
    "print(msg_testing.Label.value_counts(normalize=True))"
   ]
  },
  {
   "cell_type": "markdown",
   "metadata": {},
   "source": [
    "## Data Cleaning and Preparation"
   ]
  },
  {
   "cell_type": "code",
   "execution_count": 7,
   "metadata": {
    "collapsed": false
   },
   "outputs": [
    {
     "data": {
      "text/plain": [
       "0                    [yep, by, the, pretty, sculpture]\n",
       "1    [yes, princess, are, you, going, to, make, me,...\n",
       "2                      [welp, apparently, he, retired]\n",
       "3                                             [havent]\n",
       "4    [i, forgot, 2, ask, ü, all, smth, there, s, a,...\n",
       "Name: SMS, dtype: object"
      ]
     },
     "execution_count": 7,
     "metadata": {},
     "output_type": "execute_result"
    }
   ],
   "source": [
    "msg_training['SMS'] = msg_training['SMS']\\\n",
    "    .str.replace('\\W', ' ')\\\n",
    "    .str.lower()\\\n",
    "    .str.split()\n",
    "msg_training['SMS'].head()"
   ]
  },
  {
   "cell_type": "markdown",
   "metadata": {},
   "source": [
    "### Vocabulary"
   ]
  },
  {
   "cell_type": "code",
   "execution_count": 8,
   "metadata": {
    "collapsed": false
   },
   "outputs": [
    {
     "name": "stdout",
     "output_type": "stream",
     "text": [
      "Words in Vocabulary: 7783\n"
     ]
    }
   ],
   "source": [
    "voc_set = set()\n",
    "for words in list(msg_training.SMS):\n",
    "    voc_set.update(words)\n",
    "vocabulary = list(voc_set)\n",
    "print('Words in Vocabulary:', len(vocabulary))"
   ]
  },
  {
   "cell_type": "markdown",
   "metadata": {},
   "source": [
    "### Generate word count table"
   ]
  },
  {
   "cell_type": "code",
   "execution_count": 9,
   "metadata": {
    "collapsed": false
   },
   "outputs": [],
   "source": [
    "word_counts_per_sms = {unique_word: [0] * len(msg_training['SMS']) for unique_word in vocabulary}\n",
    "\n",
    "for index, sms in enumerate(msg_training['SMS']):\n",
    "    for word in sms:\n",
    "        word_counts_per_sms[word][index] += 1"
   ]
  },
  {
   "cell_type": "code",
   "execution_count": 1,
   "metadata": {
    "collapsed": false
   },
   "outputs": [
    {
     "ename": "NameError",
     "evalue": "name 'pd' is not defined",
     "output_type": "error",
     "traceback": [
      "\u001b[1;31m\u001b[0m",
      "\u001b[1;31mNameError\u001b[0mTraceback (most recent call last)",
      "\u001b[1;32m<ipython-input-1-647cbf0e4f5e>\u001b[0m in \u001b[0;36m<module>\u001b[1;34m()\u001b[0m\n\u001b[1;32m----> 1\u001b[1;33m \u001b[0mword_counts\u001b[0m \u001b[1;33m=\u001b[0m \u001b[0mpd\u001b[0m\u001b[1;33m.\u001b[0m\u001b[0mDataFrame\u001b[0m\u001b[1;33m(\u001b[0m\u001b[0mword_counts_per_sms\u001b[0m\u001b[1;33m)\u001b[0m\u001b[1;33m\u001b[0m\u001b[0m\n\u001b[0m",
      "\u001b[1;31mNameError\u001b[0m: name 'pd' is not defined"
     ]
    }
   ],
   "source": [
    "word_counts = pd.DataFrame(word_counts_per_sms)"
   ]
  },
  {
   "cell_type": "code",
   "execution_count": null,
   "metadata": {
    "collapsed": false
   },
   "outputs": [],
   "source": [
    "msg_training_wc = pd.concat([\n",
    "    word_counts,\n",
    "    msg_training\n",
    "])"
   ]
  },
  {
   "cell_type": "code",
   "execution_count": null,
   "metadata": {
    "collapsed": false
   },
   "outputs": [],
   "source": [
    "word_counts.shape"
   ]
  },
  {
   "cell_type": "markdown",
   "metadata": {},
   "source": [
    "## Spam Filter"
   ]
  },
  {
   "cell_type": "markdown",
   "metadata": {},
   "source": [
    "### multinomial Naive Beyes"
   ]
  },
  {
   "cell_type": "code",
   "execution_count": null,
   "metadata": {
    "collapsed": false
   },
   "outputs": [],
   "source": [
    "p_spam = msg_training.Label.value_counts(normalize=True)['ham']\n",
    "p_ham = 1 - p_spam\n",
    "spam = msg_training.Label == 'spam'\n",
    "ham = msg_training.Label == 'ham'\n",
    "N_spam = msg_training[spam]['SMS'].apply(len).sum()\n",
    "N_ham = msg_training[ham]['SMS'].apply(len).sum()\n",
    "N_vocabulary = len(vocabulary)\n",
    "alpha = 1\n",
    "\n",
    "print('P(Spam):', p_spam)\n",
    "print('P(Ham):', p_ham)\n",
    "print('N_Spam:', N_spam)\n",
    "print('N_Ham:', N_ham)\n",
    "print('N_Vocabulary:', N_vocabulary)\n",
    "print('Alpha:', alpha)"
   ]
  },
  {
   "cell_type": "code",
   "execution_count": null,
   "metadata": {
    "collapsed": false
   },
   "outputs": [],
   "source": [
    "init_voc_dict = { word:0 for word in vocabulary }\n",
    "spam_parameters = init_voc_dict.copy()\n",
    "ham_parameters = init_voc_dict.copy()\n",
    "\n",
    "def smooth(n, d):\n",
    "    return (n + alpha) / (d + alpha * N_vocabulary)\n",
    "\n",
    "for word in vocabulary:\n",
    "    wc = msg_training_wc[word]\n",
    "    spam_parameters[word] = smooth(wc[spam].sum(), N_spam)\n",
    "    ham_parameters[word] = smooth(wc[ham].sum(), N_ham)"
   ]
  },
  {
   "cell_type": "markdown",
   "metadata": {},
   "source": [
    "### Classification"
   ]
  },
  {
   "cell_type": "code",
   "execution_count": null,
   "metadata": {
    "collapsed": false
   },
   "outputs": [],
   "source": [
    "def classify(message):\n",
    "    p_spam_given_message = p_spam\n",
    "    p_ham_given_message = p_ham\n",
    "    \n",
    "    cleaned_msg = re.sub(r'\\W', ' ', message).lower()\n",
    "    words = cleaned_msg.split()\n",
    "    \n",
    "    for word in words:\n",
    "        if word in spam_parameters:\n",
    "            print(word, 'in spam')\n",
    "            p_spam_given_message *= spam_parameters[word]\n",
    "            \n",
    "        if word in ham_parameters:\n",
    "            print(word, 'in ham')\n",
    "            p_ham_given_message *= ham_parameters[word] \n",
    "            \n",
    "    print(p_spam_given_message)\n",
    "    print(p_ham_given_message)\n",
    "    \n",
    "    label = ('spam' if p_spam_given_message > p_ham_given_message\n",
    "            else 'ham' if p_spam_given_message < p_ham_given_message\n",
    "            else 'equal probability')\n",
    "    return label"
   ]
  },
  {
   "cell_type": "markdown",
   "metadata": {},
   "source": [
    "## Tests"
   ]
  },
  {
   "cell_type": "code",
   "execution_count": null,
   "metadata": {
    "collapsed": false
   },
   "outputs": [],
   "source": [
    "msg_testing['predicted'] = msg_testing.SMS.apply(classify)\n",
    "msg_testing.head()"
   ]
  },
  {
   "cell_type": "markdown",
   "metadata": {},
   "source": [
    "### Accuracy"
   ]
  },
  {
   "cell_type": "code",
   "execution_count": null,
   "metadata": {
    "collapsed": false
   },
   "outputs": [],
   "source": [
    "correct = 0\n",
    "total = len(msg_testing)\n",
    "\n",
    "for idx, row in msg_testing.iterrows():\n",
    "    if (row.Label == row.predicted):\n",
    "        correct += 1\n",
    "\n",
    "accuracy = correct / total\n",
    "\n",
    "print('\\nAccuracy:', accuracy)"
   ]
  },
  {
   "cell_type": "code",
   "execution_count": null,
   "metadata": {
    "collapsed": false
   },
   "outputs": [],
   "source": [
    "classify('WINNER!! This is the secret code to unlock the money: C3421.')"
   ]
  },
  {
   "cell_type": "code",
   "execution_count": null,
   "metadata": {
    "collapsed": true
   },
   "outputs": [],
   "source": []
  }
 ],
 "metadata": {
  "kernelspec": {
   "display_name": "Python 3",
   "language": "python",
   "name": "python3"
  },
  "language_info": {
   "codemirror_mode": {
    "name": "ipython",
    "version": 3
   },
   "file_extension": ".py",
   "mimetype": "text/x-python",
   "name": "python",
   "nbconvert_exporter": "python",
   "pygments_lexer": "ipython3",
   "version": "3.4.3"
  }
 },
 "nbformat": 4,
 "nbformat_minor": 4
}
